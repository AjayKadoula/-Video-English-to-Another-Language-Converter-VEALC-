{
  "nbformat": 4,
  "nbformat_minor": 0,
  "metadata": {
    "colab": {
      "name": "video_dubbing.ipynb",
      "provenance": [],
      "toc_visible": true,
      "authorship_tag": "ABX9TyODkXJMID2iIDOtxCuZ1dPM",
      "include_colab_link": true
    },
    "kernelspec": {
      "name": "python3",
      "display_name": "Python 3"
    }
  },
  "cells": [
    {
      "cell_type": "markdown",
      "metadata": {
        "id": "view-in-github",
        "colab_type": "text"
      },
      "source": [
        "<a href=\"https://colab.research.google.com/github/AjayKadoula/-Video-English-to-Another-Language-Converter-VEALC-/blob/master/video_dubbing.ipynb\" target=\"_parent\"><img src=\"https://colab.research.google.com/assets/colab-badge.svg\" alt=\"Open In Colab\"/></a>"
      ]
    },
    {
      "cell_type": "markdown",
      "metadata": {
        "id": "IWRVUmiaD_YG"
      },
      "source": [
        "# **Video Audio Dubbing using Machine Learning :**\r\n",
        "\r\n"
      ]
    },
    {
      "cell_type": "code",
      "metadata": {
        "colab": {
          "base_uri": "https://localhost:8080/"
        },
        "id": "vZGKRckoD-Om",
        "outputId": "10240811-34fd-43cc-96ff-e2f04e68f30f"
      },
      "source": [
        "import moviepy.editor as mp\r\n",
        "\r\n",
        "my_clip = mp.VideoFileClip(r\"videotest.mp4\")\r\n",
        "my_clip.audio.write_audiofile(r\"my_result.wav\")"
      ],
      "execution_count": 11,
      "outputs": [
        {
          "output_type": "stream",
          "text": [
            "[MoviePy] Writing audio in my_result.wav\n"
          ],
          "name": "stdout"
        },
        {
          "output_type": "stream",
          "text": [
            "100%|██████████| 1846/1846 [00:00<00:00, 2201.36it/s]"
          ],
          "name": "stderr"
        },
        {
          "output_type": "stream",
          "text": [
            "[MoviePy] Done.\n"
          ],
          "name": "stdout"
        },
        {
          "output_type": "stream",
          "text": [
            "\n"
          ],
          "name": "stderr"
        }
      ]
    },
    {
      "cell_type": "code",
      "metadata": {
        "colab": {
          "base_uri": "https://localhost:8080/"
        },
        "id": "p5FWLYfEIO-h",
        "outputId": "a93e3b21-5b75-4b20-b56c-05207117fa97"
      },
      "source": [
        "import speech_recognition as sr\r\n",
        "\r\n",
        "r = sr.Recognizer()\r\n",
        "\r\n",
        "\r\n",
        "with sr.AudioFile('my_result.wav') as source:\r\n",
        "    \r\n",
        "    audio_text = r.listen(source)\r\n",
        "    \r\n",
        "    try:\r\n",
        "        \r\n",
        "        # using google speech recognition\r\n",
        "        text = r.recognize_google(audio_text)\r\n",
        "        print('Converting audio transcripts into text ...')\r\n",
        "        print(text)\r\n",
        "     \r\n",
        "    except:\r\n",
        "         print('Sorry.. run again...')"
      ],
      "execution_count": 12,
      "outputs": [
        {
          "output_type": "stream",
          "text": [
            "Converting audio transcripts into text ...\n",
            "I never realized how important communication skills are till I started working going up in English\n"
          ],
          "name": "stdout"
        }
      ]
    },
    {
      "cell_type": "code",
      "metadata": {
        "colab": {
          "base_uri": "https://localhost:8080/"
        },
        "id": "BiWSG_r3Kh-b",
        "outputId": "191594a6-d0ae-44bc-b0d2-e2c6ad4962d1"
      },
      "source": [
        "# Importing necessary modules required \r\n",
        "import speech_recognition as spr \r\n",
        "from google_trans_new import google_translator\r\n",
        "from gtts import gTTS \r\n",
        "import os \r\n",
        "\r\n",
        "\r\n",
        "# Creating Recogniser() class object \r\n",
        "recog1 = spr.Recognizer() \r\n",
        "\r\n",
        "with spr.AudioFile('my_result.wav') as source:\r\n",
        "\tprint(\"Speak Translation !\") \r\n",
        "\tprint(\"~~~~~~~~~~~~~~~~~~~~~~~~~~~~~~~~~~~~~~~~~~~~\") \r\n",
        "\trecog1.adjust_for_ambient_noise(source, duration=0.2) \r\n",
        "\taudio = recog1.listen(source) \r\n",
        "\tMyText = recog1.recognize_google(audio) \r\n",
        "\tMyText = MyText.lower() \r\n",
        "\r\n",
        "\r\n",
        "\t\r\n",
        "\t# Translator method for translation \r\n",
        "\ttranslator = google_translator() \r\n",
        "\t\r\n",
        "\t# short form of english in which \r\n",
        "\t# you will speak \r\n",
        "\tfrom_lang = 'en'\r\n",
        "\t\r\n",
        "\t# In which we want to convert, short \r\n",
        "\t# form of hindi \r\n",
        "\tto_lang = 'hi'\r\n",
        "\t\r\n",
        "with spr.AudioFile('my_result.wav') as source:\r\n",
        "\t\t\r\n",
        "\t\tprint(\"Speak a stentence...\") \r\n",
        "\t\trecog1.adjust_for_ambient_noise(source, duration=0.2) \r\n",
        "\t\t\r\n",
        "\t\t# Storing the speech into audio variable \r\n",
        "\t\taudio = recog1.listen(source) \r\n",
        "\t\t\r\n",
        "\t\t# Using recognize.google() method to \r\n",
        "\t\t# convert audio into text \r\n",
        "\t\tget_sentence = recog1.recognize_google(audio) \r\n",
        "\r\n",
        "\t\t# Using try and except block to improve \r\n",
        "\t\t# its efficiency. \r\n",
        "\t\ttry: \r\n",
        "\t\t\t\r\n",
        "\t\t\t# Printing Speech which need to \r\n",
        "\t\t\t# be translated. \r\n",
        "\t\t\tprint(\"Phase to be Translated :\"+ get_sentence) \r\n",
        "\r\n",
        "\t\t\t# Using translate() method which requires \r\n",
        "\t\t\t# three arguments, 1st the sentence which \r\n",
        "\t\t\t# needs to be translated 2nd source language \r\n",
        "\t\t\t# and 3rd to which we need to translate in \r\n",
        "       \r\n",
        "\r\n",
        "\t\t\ttext_to_translate = translator.translate(get_sentence,lang_src= from_lang, lang_tgt= to_lang) \r\n",
        "\t\t\t\r\n",
        "\t\t\t# Storing the translated text in text \r\n",
        "\t\t\t# variable \r\n",
        "\t\t\ttext = text_to_translate \r\n",
        "\r\n",
        "\t\t\t# Using Google-Text-to-Speech ie, gTTS() method \r\n",
        "\t\t\t# to speak the translated text into the \r\n",
        "\t\t\t# destination language which is stored in to_lang. \r\n",
        "\t\t\t# Also, we have given 3rd argument as False because \r\n",
        "\t\t\t# by default it speaks very slowly \r\n",
        "\t\t\tspeak = gTTS(text=text, lang=to_lang, slow= False) \r\n",
        "\r\n",
        "\t\t\t# Using save() method to save the translated \r\n",
        "\t\t\t# speech in capture_voice.mp3 \r\n",
        "\t\t\tspeak.save(\"captured_voice.mp3\")\t \r\n",
        "\t\t\t\r\n",
        "\t\t\t# Using OS module to run the translated voice. \r\n",
        "\t\t\tos.system(\"start captured_voice.mp3\") \r\n",
        "\r\n",
        "\t\t# Here we are using except block for UnknownValue \r\n",
        "\t\t# and Request Error and printing the same to \r\n",
        "\t\t# provide better service to the user. \r\n",
        "\t\texcept spr.UnknownValueError: \r\n",
        "\t\t\tprint(\"Unable to Understand the Input\") \r\n",
        "\t\t\t\r\n",
        "\t\texcept spr.RequestError as e: \r\n",
        "\t\t\tprint(\"Unable to provide Required Output\".format(e)) \r\n"
      ],
      "execution_count": 11,
      "outputs": [
        {
          "output_type": "stream",
          "text": [
            "Speak 'hello' to initiate the Translation !\n",
            "~~~~~~~~~~~~~~~~~~~~~~~~~~~~~~~~~~~~~~~~~~~~\n",
            "Speak a stentence...\n",
            "Phase to be Translated :I never realized how important communication skills are till I started working going up in English\n"
          ],
          "name": "stdout"
        }
      ]
    }
  ]
}